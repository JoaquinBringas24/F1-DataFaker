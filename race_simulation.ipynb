{
 "cells": [
  {
   "cell_type": "code",
   "execution_count": 1,
   "metadata": {},
   "outputs": [
    {
     "name": "stdout",
     "output_type": "stream",
     "text": [
      "Probability of box: 0.0% | Current Lap: 1 | Current Stint Laps: 0 | Current Stint Lap: 1\n",
      "Probability of box: 15.000000000000002% | Current Lap: 2 | Current Stint Laps: 1 | Current Stint Lap: 2\n",
      "Probability of box: 44.99999999999999% | Current Lap: 3 | Current Stint Laps: 2 | Current Stint Lap: 3\n",
      "Probability of box: 89.99999999999999% | Current Lap: 4 | Current Stint Laps: 3 | Current Stint Lap: 4\n",
      "BOX BOX\n",
      "Probability of box: 0% | Current Lap: 5 | Current Stint Laps: 0 | Current Stint Lap: 1\n",
      "Probability of box: 15.000000000000002% | Current Lap: 6 | Current Stint Laps: 1 | Current Stint Lap: 2\n",
      "BOX BOX\n",
      "Probability of box: 0% | Current Lap: 7 | Current Stint Laps: 0 | Current Stint Lap: 1\n",
      "Probability of box: 15.000000000000002% | Current Lap: 8 | Current Stint Laps: 1 | Current Stint Lap: 2\n",
      "BOX BOX\n",
      "Probability of box: 0% | Current Lap: 9 | Current Stint Laps: 0 | Current Stint Lap: 1\n",
      "Probability of box: 15.000000000000002% | Current Lap: 10 | Current Stint Laps: 1 | Current Stint Lap: 2\n",
      "Probability of box: 44.99999999999999% | Current Lap: 11 | Current Stint Laps: 2 | Current Stint Lap: 3\n",
      "BOX BOX\n",
      "Probability of box: 0% | Current Lap: 12 | Current Stint Laps: 0 | Current Stint Lap: 1\n",
      "Probability of box: 15.000000000000002% | Current Lap: 13 | Current Stint Laps: 1 | Current Stint Lap: 2\n",
      "Probability of box: 44.99999999999999% | Current Lap: 14 | Current Stint Laps: 2 | Current Stint Lap: 3\n",
      "BOX BOX\n",
      "Probability of box: 0% | Current Lap: 15 | Current Stint Laps: 0 | Current Stint Lap: 1\n",
      "BOX BOX\n",
      "Probability of box: 0% | Current Lap: 16 | Current Stint Laps: 0 | Current Stint Lap: 1\n",
      "BOX BOX\n",
      "Probability of box: 0% | Current Lap: 17 | Current Stint Laps: 0 | Current Stint Lap: 1\n",
      "Probability of box: 15.000000000000002% | Current Lap: 18 | Current Stint Laps: 1 | Current Stint Lap: 2\n",
      "Probability of box: 44.99999999999999% | Current Lap: 19 | Current Stint Laps: 2 | Current Stint Lap: 3\n",
      "BOX BOX\n",
      "Probability of box: 0% | Current Lap: 20 | Current Stint Laps: 0 | Current Stint Lap: 1\n"
     ]
    }
   ],
   "source": [
    "import functions\n",
    "prob = 1\n",
    "tyre_laps = 0\n",
    "rate = 0.15\n",
    "\n",
    "for i in range(20):\n",
    "    prob, tyre_laps, decision = functions.race_step(tyre_laps, prob, rate)\n",
    "    \n",
    "    if decision:\n",
    "        print('BOX BOX')\n",
    "    \n",
    "    print(f'Probability of box: {(1 - prob) * 100}% | Current Lap: {i + 1} | Current Stint Laps: {tyre_laps - 1} | Current Stint Lap: {tyre_laps}')\n",
    "    \n"
   ]
  },
  {
   "cell_type": "code",
   "execution_count": null,
   "metadata": {},
   "outputs": [],
   "source": []
  }
 ],
 "metadata": {
  "kernelspec": {
   "display_name": "Godly_Env",
   "language": "python",
   "name": "python3"
  },
  "language_info": {
   "codemirror_mode": {
    "name": "ipython",
    "version": 3
   },
   "file_extension": ".py",
   "mimetype": "text/x-python",
   "name": "python",
   "nbconvert_exporter": "python",
   "pygments_lexer": "ipython3",
   "version": "3.11.4"
  }
 },
 "nbformat": 4,
 "nbformat_minor": 2
}
